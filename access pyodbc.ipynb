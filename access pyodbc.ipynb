{
 "cells": [
  {
   "cell_type": "code",
   "execution_count": null,
   "metadata": {},
   "outputs": [],
   "source": [
    "import pyodbc\n",
    "\n",
    "print([x for x in pyodbc.drivers() if x.startswith('Microsoft Access Driver')])"
   ]
  },
  {
   "cell_type": "code",
   "execution_count": null,
   "metadata": {},
   "outputs": [],
   "source": [
    "#!/usr/bin/env python3\n",
    "# -*- coding: utf-8 -*-\n",
    "\"\"\"Conectando no banco do MS Access\"\"\"\n",
    "import pyodbc\n",
    "\n",
    "\n",
    "class ConectarDB:\n",
    "    def __init__(self):\n",
    "        # Criando conexão.\n",
    "        self.con = pyodbc.connect(r'DRIVER={Microsoft Access Driver (*.mdb, *.accdb)};'\n",
    "                                  r'DBQ=C:\\Users\\conta\\caminho\\Databasepy.accdb;'\n",
    "                                  r'UID=Nome do Usuario;'\n",
    "                                  r'PWD=Senha da maquina;')\n",
    "        \n",
    "        \n",
    "\n",
    "        # Criando cursor.\n",
    "        self.cur = self.con.cursor()\n",
    "\n",
    "    def exibir_tabelas(self):\n",
    "        for tabela in self.cur.tables(tableType='TABLE'):\n",
    "            print(tabela.table_name)\n",
    "\n",
    "    def consultar_registros(self):\n",
    "        return self.cur.execute('SELECT * FROM Tabelapython').fetchall()\n",
    "    \n",
    "    def Inserir_registros(self):\n",
    "        return self.cur.execute(\"INSERT INTO Tabelapython (Código , nome, numero) VALUES (2, 'teste2', 2)\").fetchall()\n",
    "\n",
    "\n",
    "if __name__ == '__main__':\n",
    "    banco = ConectarDB()\n",
    "    banco.exibir_tabelas()\n",
    "    print(banco.consultar_registros())"
   ]
  },
  {
   "cell_type": "code",
   "execution_count": null,
   "metadata": {},
   "outputs": [],
   "source": [
    "banco.consultar_registros()"
   ]
  },
  {
   "cell_type": "code",
   "execution_count": null,
   "metadata": {},
   "outputs": [],
   "source": [
    "banco.Inserir_registros()\n"
   ]
  },
  {
   "cell_type": "code",
   "execution_count": null,
   "metadata": {},
   "outputs": [],
   "source": [
    "print(banco.consultar_registros())"
   ]
  },
  {
   "cell_type": "code",
   "execution_count": null,
   "metadata": {},
   "outputs": [],
   "source": [
    "\n",
    "banco.cur.execute(\"INSERT INTO Tabelapython (Código , nome, numero) VALUES (3, 'teste2', 2)\")"
   ]
  },
  {
   "cell_type": "code",
   "execution_count": null,
   "metadata": {},
   "outputs": [],
   "source": [
    "for i in range(2000,20500):\n",
    "    \n",
    "    banco.cur.execute(\"INSERT INTO Tabelapython (Código , nome, numero) VALUES (\"+ str(i) +\", 'teste\"+ str(i) +\"', \"+ str(i) +\")\")\n"
   ]
  },
  {
   "cell_type": "code",
   "execution_count": null,
   "metadata": {},
   "outputs": [],
   "source": []
  }
 ],
 "metadata": {
  "kernelspec": {
   "display_name": "Python 3 (ipykernel)",
   "language": "python",
   "name": "python3"
  },
  "language_info": {
   "codemirror_mode": {
    "name": "ipython",
    "version": 3
   },
   "file_extension": ".py",
   "mimetype": "text/x-python",
   "name": "python",
   "nbconvert_exporter": "python",
   "pygments_lexer": "ipython3",
   "version": "3.7.13"
  }
 },
 "nbformat": 4,
 "nbformat_minor": 2
}
